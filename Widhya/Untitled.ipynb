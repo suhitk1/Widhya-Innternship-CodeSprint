{
 "cells": [
  {
   "cell_type": "code",
   "execution_count": 1,
   "metadata": {},
   "outputs": [],
   "source": [
    "import pandas as pd  \n",
    "import numpy as np  \n",
    "import matplotlib.pyplot as plt  \n",
    "import seaborn as seabornInstance \n",
    "from sklearn.model_selection import train_test_split \n",
    "from sklearn.linear_model import LinearRegression\n",
    "from sklearn import metrics"
   ]
  },
  {
   "cell_type": "code",
   "execution_count": 2,
   "metadata": {},
   "outputs": [],
   "source": [
    "data = pd.read_csv(\"bitcoin_dataset.csv\")"
   ]
  },
  {
   "cell_type": "code",
   "execution_count": 3,
   "metadata": {},
   "outputs": [
    {
     "data": {
      "text/html": [
       "<div>\n",
       "<style scoped>\n",
       "    .dataframe tbody tr th:only-of-type {\n",
       "        vertical-align: middle;\n",
       "    }\n",
       "\n",
       "    .dataframe tbody tr th {\n",
       "        vertical-align: top;\n",
       "    }\n",
       "\n",
       "    .dataframe thead th {\n",
       "        text-align: right;\n",
       "    }\n",
       "</style>\n",
       "<table border=\"1\" class=\"dataframe\">\n",
       "  <thead>\n",
       "    <tr style=\"text-align: right;\">\n",
       "      <th></th>\n",
       "      <th>Date</th>\n",
       "      <th>btc_market_price</th>\n",
       "      <th>btc_total_bitcoins</th>\n",
       "      <th>btc_market_cap</th>\n",
       "      <th>btc_trade_volume</th>\n",
       "      <th>btc_blocks_size</th>\n",
       "      <th>btc_avg_block_size</th>\n",
       "      <th>btc_n_orphaned_blocks</th>\n",
       "      <th>btc_n_transactions_per_block</th>\n",
       "      <th>btc_median_confirmation_time</th>\n",
       "      <th>...</th>\n",
       "      <th>btc_cost_per_transaction_percent</th>\n",
       "      <th>btc_cost_per_transaction</th>\n",
       "      <th>btc_n_unique_addresses</th>\n",
       "      <th>btc_n_transactions</th>\n",
       "      <th>btc_n_transactions_total</th>\n",
       "      <th>btc_n_transactions_excluding_popular</th>\n",
       "      <th>btc_n_transactions_excluding_chains_longer_than_100</th>\n",
       "      <th>btc_output_volume</th>\n",
       "      <th>btc_estimated_transaction_volume</th>\n",
       "      <th>btc_estimated_transaction_volume_usd</th>\n",
       "    </tr>\n",
       "  </thead>\n",
       "  <tbody>\n",
       "    <tr>\n",
       "      <th>0</th>\n",
       "      <td>2/17/2010</td>\n",
       "      <td>0.0</td>\n",
       "      <td>2043200.0</td>\n",
       "      <td>0.0</td>\n",
       "      <td>0.0</td>\n",
       "      <td>0.0</td>\n",
       "      <td>0.000235</td>\n",
       "      <td>0</td>\n",
       "      <td>1.0</td>\n",
       "      <td>0.0</td>\n",
       "      <td>...</td>\n",
       "      <td>31.781022</td>\n",
       "      <td>0.0</td>\n",
       "      <td>241</td>\n",
       "      <td>244</td>\n",
       "      <td>41240</td>\n",
       "      <td>244</td>\n",
       "      <td>244</td>\n",
       "      <td>65173.13</td>\n",
       "      <td>36500.0</td>\n",
       "      <td>0.0</td>\n",
       "    </tr>\n",
       "    <tr>\n",
       "      <th>1</th>\n",
       "      <td>2/18/2010</td>\n",
       "      <td>0.0</td>\n",
       "      <td>2054650.0</td>\n",
       "      <td>0.0</td>\n",
       "      <td>0.0</td>\n",
       "      <td>0.0</td>\n",
       "      <td>0.000241</td>\n",
       "      <td>0</td>\n",
       "      <td>1.0</td>\n",
       "      <td>0.0</td>\n",
       "      <td>...</td>\n",
       "      <td>154.463801</td>\n",
       "      <td>0.0</td>\n",
       "      <td>234</td>\n",
       "      <td>235</td>\n",
       "      <td>41475</td>\n",
       "      <td>235</td>\n",
       "      <td>235</td>\n",
       "      <td>18911.74</td>\n",
       "      <td>7413.0</td>\n",
       "      <td>0.0</td>\n",
       "    </tr>\n",
       "    <tr>\n",
       "      <th>2</th>\n",
       "      <td>2/19/2010</td>\n",
       "      <td>0.0</td>\n",
       "      <td>2063600.0</td>\n",
       "      <td>0.0</td>\n",
       "      <td>0.0</td>\n",
       "      <td>0.0</td>\n",
       "      <td>0.000228</td>\n",
       "      <td>0</td>\n",
       "      <td>1.0</td>\n",
       "      <td>0.0</td>\n",
       "      <td>...</td>\n",
       "      <td>1278.516635</td>\n",
       "      <td>0.0</td>\n",
       "      <td>185</td>\n",
       "      <td>183</td>\n",
       "      <td>41658</td>\n",
       "      <td>183</td>\n",
       "      <td>183</td>\n",
       "      <td>9749.98</td>\n",
       "      <td>700.0</td>\n",
       "      <td>0.0</td>\n",
       "    </tr>\n",
       "    <tr>\n",
       "      <th>3</th>\n",
       "      <td>2/20/2010</td>\n",
       "      <td>0.0</td>\n",
       "      <td>2074700.0</td>\n",
       "      <td>0.0</td>\n",
       "      <td>0.0</td>\n",
       "      <td>0.0</td>\n",
       "      <td>0.000218</td>\n",
       "      <td>0</td>\n",
       "      <td>1.0</td>\n",
       "      <td>0.0</td>\n",
       "      <td>...</td>\n",
       "      <td>22186.687990</td>\n",
       "      <td>0.0</td>\n",
       "      <td>224</td>\n",
       "      <td>224</td>\n",
       "      <td>41882</td>\n",
       "      <td>224</td>\n",
       "      <td>224</td>\n",
       "      <td>11150.03</td>\n",
       "      <td>50.0</td>\n",
       "      <td>0.0</td>\n",
       "    </tr>\n",
       "    <tr>\n",
       "      <th>4</th>\n",
       "      <td>2/21/2010</td>\n",
       "      <td>0.0</td>\n",
       "      <td>2085400.0</td>\n",
       "      <td>0.0</td>\n",
       "      <td>0.0</td>\n",
       "      <td>0.0</td>\n",
       "      <td>0.000234</td>\n",
       "      <td>0</td>\n",
       "      <td>1.0</td>\n",
       "      <td>0.0</td>\n",
       "      <td>...</td>\n",
       "      <td>689.179876</td>\n",
       "      <td>0.0</td>\n",
       "      <td>218</td>\n",
       "      <td>218</td>\n",
       "      <td>42100</td>\n",
       "      <td>218</td>\n",
       "      <td>218</td>\n",
       "      <td>12266.83</td>\n",
       "      <td>1553.0</td>\n",
       "      <td>0.0</td>\n",
       "    </tr>\n",
       "  </tbody>\n",
       "</table>\n",
       "<p>5 rows × 24 columns</p>\n",
       "</div>"
      ],
      "text/plain": [
       "        Date  btc_market_price  btc_total_bitcoins  btc_market_cap  \\\n",
       "0  2/17/2010               0.0           2043200.0             0.0   \n",
       "1  2/18/2010               0.0           2054650.0             0.0   \n",
       "2  2/19/2010               0.0           2063600.0             0.0   \n",
       "3  2/20/2010               0.0           2074700.0             0.0   \n",
       "4  2/21/2010               0.0           2085400.0             0.0   \n",
       "\n",
       "   btc_trade_volume  btc_blocks_size  btc_avg_block_size  \\\n",
       "0               0.0              0.0            0.000235   \n",
       "1               0.0              0.0            0.000241   \n",
       "2               0.0              0.0            0.000228   \n",
       "3               0.0              0.0            0.000218   \n",
       "4               0.0              0.0            0.000234   \n",
       "\n",
       "   btc_n_orphaned_blocks  btc_n_transactions_per_block  \\\n",
       "0                      0                           1.0   \n",
       "1                      0                           1.0   \n",
       "2                      0                           1.0   \n",
       "3                      0                           1.0   \n",
       "4                      0                           1.0   \n",
       "\n",
       "   btc_median_confirmation_time  ...  btc_cost_per_transaction_percent  \\\n",
       "0                           0.0  ...                         31.781022   \n",
       "1                           0.0  ...                        154.463801   \n",
       "2                           0.0  ...                       1278.516635   \n",
       "3                           0.0  ...                      22186.687990   \n",
       "4                           0.0  ...                        689.179876   \n",
       "\n",
       "   btc_cost_per_transaction  btc_n_unique_addresses  btc_n_transactions  \\\n",
       "0                       0.0                     241                 244   \n",
       "1                       0.0                     234                 235   \n",
       "2                       0.0                     185                 183   \n",
       "3                       0.0                     224                 224   \n",
       "4                       0.0                     218                 218   \n",
       "\n",
       "   btc_n_transactions_total  btc_n_transactions_excluding_popular  \\\n",
       "0                     41240                                   244   \n",
       "1                     41475                                   235   \n",
       "2                     41658                                   183   \n",
       "3                     41882                                   224   \n",
       "4                     42100                                   218   \n",
       "\n",
       "   btc_n_transactions_excluding_chains_longer_than_100  btc_output_volume  \\\n",
       "0                                                244             65173.13   \n",
       "1                                                235             18911.74   \n",
       "2                                                183              9749.98   \n",
       "3                                                224             11150.03   \n",
       "4                                                218             12266.83   \n",
       "\n",
       "   btc_estimated_transaction_volume  btc_estimated_transaction_volume_usd  \n",
       "0                           36500.0                                   0.0  \n",
       "1                            7413.0                                   0.0  \n",
       "2                             700.0                                   0.0  \n",
       "3                              50.0                                   0.0  \n",
       "4                            1553.0                                   0.0  \n",
       "\n",
       "[5 rows x 24 columns]"
      ]
     },
     "execution_count": 3,
     "metadata": {},
     "output_type": "execute_result"
    }
   ],
   "source": [
    "data.head()"
   ]
  },
  {
   "cell_type": "code",
   "execution_count": 4,
   "metadata": {},
   "outputs": [
    {
     "data": {
      "text/plain": [
       "(2906, 24)"
      ]
     },
     "execution_count": 4,
     "metadata": {},
     "output_type": "execute_result"
    }
   ],
   "source": [
    "data.shape"
   ]
  },
  {
   "cell_type": "code",
   "execution_count": 5,
   "metadata": {},
   "outputs": [
    {
     "data": {
      "text/plain": [
       "Date                                                   False\n",
       "btc_market_price                                       False\n",
       "btc_total_bitcoins                                      True\n",
       "btc_market_cap                                         False\n",
       "btc_trade_volume                                        True\n",
       "btc_blocks_size                                         True\n",
       "btc_avg_block_size                                     False\n",
       "btc_n_orphaned_blocks                                  False\n",
       "btc_n_transactions_per_block                           False\n",
       "btc_median_confirmation_time                            True\n",
       "btc_hash_rate                                          False\n",
       "btc_difficulty                                          True\n",
       "btc_miners_revenue                                     False\n",
       "btc_transaction_fees                                    True\n",
       "btc_cost_per_transaction_percent                       False\n",
       "btc_cost_per_transaction                               False\n",
       "btc_n_unique_addresses                                 False\n",
       "btc_n_transactions                                     False\n",
       "btc_n_transactions_total                               False\n",
       "btc_n_transactions_excluding_popular                   False\n",
       "btc_n_transactions_excluding_chains_longer_than_100    False\n",
       "btc_output_volume                                      False\n",
       "btc_estimated_transaction_volume                       False\n",
       "btc_estimated_transaction_volume_usd                   False\n",
       "dtype: bool"
      ]
     },
     "execution_count": 5,
     "metadata": {},
     "output_type": "execute_result"
    }
   ],
   "source": [
    "data.isnull().any()"
   ]
  },
  {
   "cell_type": "code",
   "execution_count": 6,
   "metadata": {},
   "outputs": [],
   "source": [
    "data = data.fillna(method='ffill')"
   ]
  },
  {
   "cell_type": "code",
   "execution_count": 7,
   "metadata": {},
   "outputs": [
    {
     "data": {
      "text/plain": [
       "Date                                                   False\n",
       "btc_market_price                                       False\n",
       "btc_total_bitcoins                                     False\n",
       "btc_market_cap                                         False\n",
       "btc_trade_volume                                       False\n",
       "btc_blocks_size                                        False\n",
       "btc_avg_block_size                                     False\n",
       "btc_n_orphaned_blocks                                  False\n",
       "btc_n_transactions_per_block                           False\n",
       "btc_median_confirmation_time                           False\n",
       "btc_hash_rate                                          False\n",
       "btc_difficulty                                         False\n",
       "btc_miners_revenue                                     False\n",
       "btc_transaction_fees                                   False\n",
       "btc_cost_per_transaction_percent                       False\n",
       "btc_cost_per_transaction                               False\n",
       "btc_n_unique_addresses                                 False\n",
       "btc_n_transactions                                     False\n",
       "btc_n_transactions_total                               False\n",
       "btc_n_transactions_excluding_popular                   False\n",
       "btc_n_transactions_excluding_chains_longer_than_100    False\n",
       "btc_output_volume                                      False\n",
       "btc_estimated_transaction_volume                       False\n",
       "btc_estimated_transaction_volume_usd                   False\n",
       "dtype: bool"
      ]
     },
     "execution_count": 7,
     "metadata": {},
     "output_type": "execute_result"
    }
   ],
   "source": [
    "data.isnull().any()"
   ]
  },
  {
   "cell_type": "code",
   "execution_count": 8,
   "metadata": {},
   "outputs": [],
   "source": [
    "X = data[['btc_market_cap', 'btc_n_transactions', 'btc_miners_revenue', 'btc_cost_per_transaction', 'btc_difficulty', 'btc_hash_rate', 'btc_cost_per_transaction_percent']].values\n",
    "y = data['btc_market_price'].values"
   ]
  },
  {
   "cell_type": "code",
   "execution_count": 9,
   "metadata": {},
   "outputs": [
    {
     "data": {
      "text/plain": [
       "<matplotlib.axes._subplots.AxesSubplot at 0x1e02a59f5f8>"
      ]
     },
     "execution_count": 9,
     "metadata": {},
     "output_type": "execute_result"
    },
    {
     "data": {
      "image/png": "[encoded data removed]",
      "text/plain": [
       "<Figure size 1080x720 with 1 Axes>"
      ]
     },
     "metadata": {
      "needs_background": "light"
     },
     "output_type": "display_data"
    }
   ],
   "source": [
    "plt.figure(figsize=(15,10))\n",
    "plt.tight_layout()\n",
    "seabornInstance.distplot(data['btc_market_price'])"
   ]
  },
  {
   "cell_type": "code",
   "execution_count": 10,
   "metadata": {},
   "outputs": [],
   "source": [
    "X_train, X_test, y_train, y_test = train_test_split(X, y, test_size=0.25, random_state=0)"
   ]
  },
  {
   "cell_type": "code",
   "execution_count": 11,
   "metadata": {},
   "outputs": [
    {
     "data": {
      "text/plain": [
       "LinearRegression(copy_X=True, fit_intercept=True, n_jobs=None,\n",
       "         normalize=False)"
      ]
     },
     "execution_count": 11,
     "metadata": {},
     "output_type": "execute_result"
    }
   ],
   "source": [
    "regressor = LinearRegression()  \n",
    "regressor.fit(X_train, y_train)"
   ]
  },
  {
   "cell_type": "code",
   "execution_count": 12,
   "metadata": {},
   "outputs": [],
   "source": [
    "y_pred = regressor.predict(X_test)"
   ]
  },
  {
   "cell_type": "code",
   "execution_count": 13,
   "metadata": {},
   "outputs": [
    {
     "data": {
      "text/html": [
       "<div>\n",
       "<style scoped>\n",
       "    .dataframe tbody tr th:only-of-type {\n",
       "        vertical-align: middle;\n",
       "    }\n",
       "\n",
       "    .dataframe tbody tr th {\n",
       "        vertical-align: top;\n",
       "    }\n",
       "\n",
       "    .dataframe thead th {\n",
       "        text-align: right;\n",
       "    }\n",
       "</style>\n",
       "<table border=\"1\" class=\"dataframe\">\n",
       "  <thead>\n",
       "    <tr style=\"text-align: right;\">\n",
       "      <th></th>\n",
       "      <th>Actual</th>\n",
       "      <th>Predicted</th>\n",
       "    </tr>\n",
       "  </thead>\n",
       "  <tbody>\n",
       "    <tr>\n",
       "      <th>0</th>\n",
       "      <td>5.830010</td>\n",
       "      <td>15.377512</td>\n",
       "    </tr>\n",
       "    <tr>\n",
       "      <th>1</th>\n",
       "      <td>265.850000</td>\n",
       "      <td>272.421417</td>\n",
       "    </tr>\n",
       "    <tr>\n",
       "      <th>2</th>\n",
       "      <td>101.899980</td>\n",
       "      <td>109.215814</td>\n",
       "    </tr>\n",
       "    <tr>\n",
       "      <th>3</th>\n",
       "      <td>453.390000</td>\n",
       "      <td>464.228513</td>\n",
       "    </tr>\n",
       "    <tr>\n",
       "      <th>4</th>\n",
       "      <td>3.230000</td>\n",
       "      <td>4.079555</td>\n",
       "    </tr>\n",
       "    <tr>\n",
       "      <th>5</th>\n",
       "      <td>14.100000</td>\n",
       "      <td>48.203623</td>\n",
       "    </tr>\n",
       "    <tr>\n",
       "      <th>6</th>\n",
       "      <td>3.255000</td>\n",
       "      <td>2.045330</td>\n",
       "    </tr>\n",
       "    <tr>\n",
       "      <th>7</th>\n",
       "      <td>2501.191343</td>\n",
       "      <td>2486.721905</td>\n",
       "    </tr>\n",
       "    <tr>\n",
       "      <th>8</th>\n",
       "      <td>778.493500</td>\n",
       "      <td>796.834179</td>\n",
       "    </tr>\n",
       "    <tr>\n",
       "      <th>9</th>\n",
       "      <td>11.127000</td>\n",
       "      <td>11.740667</td>\n",
       "    </tr>\n",
       "    <tr>\n",
       "      <th>10</th>\n",
       "      <td>6.165000</td>\n",
       "      <td>10.073436</td>\n",
       "    </tr>\n",
       "    <tr>\n",
       "      <th>11</th>\n",
       "      <td>0.275000</td>\n",
       "      <td>-3.857513</td>\n",
       "    </tr>\n",
       "    <tr>\n",
       "      <th>12</th>\n",
       "      <td>5505.827767</td>\n",
       "      <td>5463.793820</td>\n",
       "    </tr>\n",
       "    <tr>\n",
       "      <th>13</th>\n",
       "      <td>5.178200</td>\n",
       "      <td>6.447001</td>\n",
       "    </tr>\n",
       "    <tr>\n",
       "      <th>14</th>\n",
       "      <td>0.109010</td>\n",
       "      <td>-7.088059</td>\n",
       "    </tr>\n",
       "    <tr>\n",
       "      <th>15</th>\n",
       "      <td>11.380700</td>\n",
       "      <td>12.433939</td>\n",
       "    </tr>\n",
       "    <tr>\n",
       "      <th>16</th>\n",
       "      <td>22.150000</td>\n",
       "      <td>24.728507</td>\n",
       "    </tr>\n",
       "    <tr>\n",
       "      <th>17</th>\n",
       "      <td>317.630000</td>\n",
       "      <td>300.704599</td>\n",
       "    </tr>\n",
       "    <tr>\n",
       "      <th>18</th>\n",
       "      <td>864.700000</td>\n",
       "      <td>883.790427</td>\n",
       "    </tr>\n",
       "    <tr>\n",
       "      <th>19</th>\n",
       "      <td>9.330000</td>\n",
       "      <td>73.418546</td>\n",
       "    </tr>\n",
       "    <tr>\n",
       "      <th>20</th>\n",
       "      <td>0.000000</td>\n",
       "      <td>-12.959810</td>\n",
       "    </tr>\n",
       "    <tr>\n",
       "      <th>21</th>\n",
       "      <td>76.327910</td>\n",
       "      <td>82.665435</td>\n",
       "    </tr>\n",
       "    <tr>\n",
       "      <th>22</th>\n",
       "      <td>265.850000</td>\n",
       "      <td>260.493600</td>\n",
       "    </tr>\n",
       "    <tr>\n",
       "      <th>23</th>\n",
       "      <td>0.250000</td>\n",
       "      <td>0.952432</td>\n",
       "    </tr>\n",
       "    <tr>\n",
       "      <th>24</th>\n",
       "      <td>0.781000</td>\n",
       "      <td>-0.183186</td>\n",
       "    </tr>\n",
       "  </tbody>\n",
       "</table>\n",
       "</div>"
      ],
      "text/plain": [
       "         Actual    Predicted\n",
       "0      5.830010    15.377512\n",
       "1    265.850000   272.421417\n",
       "2    101.899980   109.215814\n",
       "3    453.390000   464.228513\n",
       "4      3.230000     4.079555\n",
       "5     14.100000    48.203623\n",
       "6      3.255000     2.045330\n",
       "7   2501.191343  2486.721905\n",
       "8    778.493500   796.834179\n",
       "9     11.127000    11.740667\n",
       "10     6.165000    10.073436\n",
       "11     0.275000    -3.857513\n",
       "12  5505.827767  5463.793820\n",
       "13     5.178200     6.447001\n",
       "14     0.109010    -7.088059\n",
       "15    11.380700    12.433939\n",
       "16    22.150000    24.728507\n",
       "17   317.630000   300.704599\n",
       "18   864.700000   883.790427\n",
       "19     9.330000    73.418546\n",
       "20     0.000000   -12.959810\n",
       "21    76.327910    82.665435\n",
       "22   265.850000   260.493600\n",
       "23     0.250000     0.952432\n",
       "24     0.781000    -0.183186"
      ]
     },
     "execution_count": 13,
     "metadata": {},
     "output_type": "execute_result"
    }
   ],
   "source": [
    "df = pd.DataFrame({'Actual': y_test, 'Predicted': y_pred})\n",
    "df1 = df.head(25)\n",
    "df1"
   ]
  },
  {
   "cell_type": "code",
   "execution_count": 14,
   "metadata": {},
   "outputs": [
    {
     "data": {
      "image/png": "[encoded data removed]",
      "text/plain": [
       "<Figure size 720x576 with 1 Axes>"
      ]
     },
     "metadata": {
      "needs_background": "light"
     },
     "output_type": "display_data"
    }
   ],
   "source": [
    "df1.plot(kind='bar',figsize=(10,8))\n",
    "plt.grid(which='major', linestyle='-', linewidth='0.5', color='green')\n",
    "plt.grid(which='minor', linestyle=':', linewidth='0.5', color='black')\n",
    "plt.show()"
   ]
  },
  {
   "cell_type": "code",
   "execution_count": 15,
   "metadata": {},
   "outputs": [
    {
     "name": "stdout",
     "output_type": "stream",
     "text": [
      "Mean Absolute Error: 13.31404116988292\n",
      "Mean Squared Error: 445.41968108040106\n",
      "Root Mean Squared Error: 21.104968161084752\n"
     ]
    }
   ],
   "source": [
    "print('Mean Absolute Error:', metrics.mean_absolute_error(y_test, y_pred))  \n",
    "print('Mean Squared Error:', metrics.mean_squared_error(y_test, y_pred))  \n",
    "print('Root Mean Squared Error:', np.sqrt(metrics.mean_squared_error(y_test, y_pred)))"
   ]
  },
  {
   "cell_type": "code",
   "execution_count": null,
   "metadata": {},
   "outputs": [],
   "source": []
  }
 ],
 "metadata": {
  "kernelspec": {
   "display_name": "Python 3",
   "language": "python",
   "name": "python3"
  },
  "language_info": {
   "codemirror_mode": {
    "name": "ipython",
    "version": 3
   },
   "file_extension": ".py",
   "mimetype": "text/x-python",
   "name": "python",
   "nbconvert_exporter": "python",
   "pygments_lexer": "ipython3",
   "version": "3.7.3"
  }
 },
 "nbformat": 4,
 "nbformat_minor": 2
}
